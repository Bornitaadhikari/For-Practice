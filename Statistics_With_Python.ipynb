{
  "nbformat": 4,
  "nbformat_minor": 0,
  "metadata": {
    "colab": {
      "provenance": [],
      "authorship_tag": "ABX9TyNLBoR0jSvJZ/WX8kKE6A0l",
      "include_colab_link": true
    },
    "kernelspec": {
      "name": "python3",
      "display_name": "Python 3"
    },
    "language_info": {
      "name": "python"
    }
  },
  "cells": [
    {
      "cell_type": "markdown",
      "metadata": {
        "id": "view-in-github",
        "colab_type": "text"
      },
      "source": [
        "<a href=\"https://colab.research.google.com/github/Bornitaadhikari/For-Practice/blob/main/Statistics_With_Python.ipynb\" target=\"_parent\"><img src=\"https://colab.research.google.com/assets/colab-badge.svg\" alt=\"Open In Colab\"/></a>"
      ]
    },
    {
      "cell_type": "code",
      "execution_count": 1,
      "metadata": {
        "id": "kQZnbsDaAHv4"
      },
      "outputs": [],
      "source": [
        "import math\n",
        "import statistics"
      ]
    },
    {
      "cell_type": "code",
      "source": [
        "numbers=[10,20,30,40,30,30,30,30,40,20,304,56,56]"
      ],
      "metadata": {
        "id": "vHRTxYZAAWzK"
      },
      "execution_count": 2,
      "outputs": []
    },
    {
      "cell_type": "code",
      "source": [
        "print(statistics.mean(numbers)) #mean"
      ],
      "metadata": {
        "colab": {
          "base_uri": "https://localhost:8080/"
        },
        "id": "nCZSBAjkAW2a",
        "outputId": "d14f9476-df88-44d5-8a65-34817fec069d"
      },
      "execution_count": 3,
      "outputs": [
        {
          "output_type": "stream",
          "name": "stdout",
          "text": [
            "53.53846153846154\n"
          ]
        }
      ]
    },
    {
      "cell_type": "code",
      "source": [
        "print(statistics.mode(numbers))  #mode"
      ],
      "metadata": {
        "colab": {
          "base_uri": "https://localhost:8080/"
        },
        "id": "jSt3VTTZA8Fe",
        "outputId": "9b56bd7c-b923-443e-dc0f-6af5ec159f57"
      },
      "execution_count": 4,
      "outputs": [
        {
          "output_type": "stream",
          "name": "stdout",
          "text": [
            "30\n"
          ]
        }
      ]
    },
    {
      "cell_type": "code",
      "source": [
        "print(statistics.median(numbers)) #median"
      ],
      "metadata": {
        "colab": {
          "base_uri": "https://localhost:8080/"
        },
        "id": "OrwNe0U2A8Hn",
        "outputId": "73830425-d462-49ea-ac64-839722c05ffa"
      },
      "execution_count": 5,
      "outputs": [
        {
          "output_type": "stream",
          "name": "stdout",
          "text": [
            "30\n"
          ]
        }
      ]
    },
    {
      "cell_type": "code",
      "source": [
        "print(sum(numbers)/len(numbers)) # calculate mean manually"
      ],
      "metadata": {
        "colab": {
          "base_uri": "https://localhost:8080/"
        },
        "id": "u4ga5iNMAW56",
        "outputId": "10479618-8b58-4761-a3a9-bed8aef6df4d"
      },
      "execution_count": 6,
      "outputs": [
        {
          "output_type": "stream",
          "name": "stdout",
          "text": [
            "53.53846153846154\n"
          ]
        }
      ]
    },
    {
      "cell_type": "code",
      "source": [
        "if len(numbers) % 2 ==0:\n",
        "  print((numbers[len(numbers)//2]+numbers[len(numbers)//2-1])/2)  # calculate median manually\n",
        "else:\n",
        "  print(numbers[len(numbers)//2])\n"
      ],
      "metadata": {
        "colab": {
          "base_uri": "https://localhost:8080/"
        },
        "id": "WgT6WOnCAW_0",
        "outputId": "dcc535c7-33cf-41a3-95d6-1f3910d570b3"
      },
      "execution_count": 7,
      "outputs": [
        {
          "output_type": "stream",
          "name": "stdout",
          "text": [
            "30\n"
          ]
        }
      ]
    },
    {
      "cell_type": "code",
      "source": [
        "print(max(set(numbers),key=numbers.count)) #calculate mode malually"
      ],
      "metadata": {
        "colab": {
          "base_uri": "https://localhost:8080/"
        },
        "id": "HGbCHlUaAXER",
        "outputId": "841150de-8154-43fc-b8db-650d8012a8b5"
      },
      "execution_count": 8,
      "outputs": [
        {
          "output_type": "stream",
          "name": "stdout",
          "text": [
            "30\n"
          ]
        }
      ]
    },
    {
      "cell_type": "code",
      "source": [
        "number1=[1,2,0,2000,3000,4000]\n",
        "number2=[85000,56003,53002,4500]"
      ],
      "metadata": {
        "id": "N8aAhF7eAXHL"
      },
      "execution_count": 9,
      "outputs": []
    },
    {
      "cell_type": "code",
      "source": [
        "print(statistics.mean(number1))\n",
        "print(statistics.mean(number2))\n"
      ],
      "metadata": {
        "colab": {
          "base_uri": "https://localhost:8080/"
        },
        "id": "pPxjZNKIEWIe",
        "outputId": "eb1753fb-162b-492f-d46a-b2b9017dcee3"
      },
      "execution_count": 10,
      "outputs": [
        {
          "output_type": "stream",
          "name": "stdout",
          "text": [
            "1500.5\n",
            "49626.25\n"
          ]
        }
      ]
    },
    {
      "cell_type": "code",
      "source": [
        "print(statistics.median(number1))\n",
        "print(statistics.median(number2))"
      ],
      "metadata": {
        "colab": {
          "base_uri": "https://localhost:8080/"
        },
        "id": "gpKEW-xXEWLq",
        "outputId": "db3a9136-eac2-4eec-c383-702edbe7fa3a"
      },
      "execution_count": 11,
      "outputs": [
        {
          "output_type": "stream",
          "name": "stdout",
          "text": [
            "1001.0\n",
            "54502.5\n"
          ]
        }
      ]
    },
    {
      "cell_type": "code",
      "source": [
        "print(statistics.mode(number1))\n",
        "print(statistics.mode(number2))"
      ],
      "metadata": {
        "colab": {
          "base_uri": "https://localhost:8080/"
        },
        "id": "1CpmGwEgEWO8",
        "outputId": "752422a6-fb45-48e7-c09d-a88f9c861d28"
      },
      "execution_count": 12,
      "outputs": [
        {
          "output_type": "stream",
          "name": "stdout",
          "text": [
            "1\n",
            "85000\n"
          ]
        }
      ]
    },
    {
      "cell_type": "code",
      "source": [
        "print(statistics.stdev(number1))\n",
        "print(statistics.variance(number1))\n",
        "print(statistics.pstdev(number1))"
      ],
      "metadata": {
        "colab": {
          "base_uri": "https://localhost:8080/"
        },
        "id": "4h-WnkOgG-IC",
        "outputId": "7ec06797-92b8-4e63-93e2-ba53f66df920"
      },
      "execution_count": 13,
      "outputs": [
        {
          "output_type": "stream",
          "name": "stdout",
          "text": [
            "1760.1706451364312\n",
            "3098200.7\n",
            "1606.8086123327403\n"
          ]
        }
      ]
    },
    {
      "cell_type": "code",
      "source": [
        "print(statistics.stdev(number2))\n",
        "print(statistics.variance(number2))\n",
        "print(statistics.pstdev(number2))"
      ],
      "metadata": {
        "colab": {
          "base_uri": "https://localhost:8080/"
        },
        "id": "9nTn4M9uG-J4",
        "outputId": "49d5edaa-88d1-455c-d545-8056148442f5"
      },
      "execution_count": 14,
      "outputs": [
        {
          "output_type": "stream",
          "name": "stdout",
          "text": [
            "33365.34757673996\n",
            "1113246418.9166667\n",
            "28895.238607554358\n"
          ]
        }
      ]
    },
    {
      "cell_type": "code",
      "source": [],
      "metadata": {
        "id": "H4KiFmgNG-OB"
      },
      "execution_count": 14,
      "outputs": []
    },
    {
      "cell_type": "code",
      "source": [],
      "metadata": {
        "id": "kcHqALBxG-Pr"
      },
      "execution_count": 14,
      "outputs": []
    },
    {
      "cell_type": "code",
      "source": [],
      "metadata": {
        "id": "1EaHy0jmG-UT"
      },
      "execution_count": 14,
      "outputs": []
    }
  ]
}